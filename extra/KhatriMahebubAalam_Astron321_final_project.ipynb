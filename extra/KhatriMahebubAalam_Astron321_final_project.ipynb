{
 "cells": [
  {
   "cell_type": "markdown",
   "metadata": {},
   "source": [
    "___\n",
    "\n",
    "Mahebub Aalam Khatri\n",
    "\n",
    "Astron 321 Final Project\n",
    "\n",
    "## Calculating the Period-Magnitude Relationship for Classical Cepheids to Find the Distance to the LMC"
   ]
  },
  {
   "cell_type": "markdown",
   "metadata": {},
   "source": [
    "OGLE data downloaded from:\n",
    "> https://www.astrouw.edu.pl/ogle/ogle4/OCVS/"
   ]
  },
  {
   "cell_type": "code",
   "execution_count": 2,
   "metadata": {},
   "outputs": [],
   "source": [
    "import matplotlib.pyplot as plt\n",
    "from astropy.timeseries import LombScargle\n",
    "from astropy.table import Table\n",
    "import astropy.coordinates as coord\n",
    "import astropy.units as u\n",
    "import numpy as np\n",
    "import uncertainties as unc\n",
    "import uncertainties.unumpy as unp\n",
    "import pandas as pd\n",
    "from astroquery.gaia import Gaia\n",
    "from astroquery.ipac.irsa.irsa_dust import IrsaDust\n",
    "import os"
   ]
  },
  {
   "cell_type": "code",
   "execution_count": 2,
   "metadata": {},
   "outputs": [
    {
     "name": "stdout",
     "output_type": "stream",
     "text": [
      "INFO: Login to gaia TAP server [astroquery.gaia.core]\n",
      "OK\n",
      "INFO: Login to gaia data server [astroquery.gaia.core]\n",
      "OK\n"
     ]
    }
   ],
   "source": [
    "Gaia.login()"
   ]
  },
  {
   "cell_type": "markdown",
   "metadata": {},
   "source": [
    "First, we convert the cepheid list provided by OGLE into a pandas dataframe and extract the Gaia-EDR3 IDs for cepheids that have I-band data, OGLE IDs, and oscillate in the first fundamental mode."
   ]
  },
  {
   "cell_type": "code",
   "execution_count": 3,
   "metadata": {},
   "outputs": [],
   "source": [
    "# read in the file and create a dataframe\n",
    "# NOTE: in order to get colspecs to infer spacing correctly \n",
    "#       (especially for Gaia/OGLE IDs), I had to rearrange\n",
    "#       some of the entries\n",
    "df = pd.read_fwf('allGalCep.listID', colspecs=\"infer\", skiprows=2, \n",
    "                names=['Source', 'Name', 'RA(2000.0)', 'Dec(2000.0)', 'RA[deg]', \n",
    "                'Dec[deg]', 'l[deg]', 'b[deg]', 'Mode(s)', 'P_F[day]', 'P_1O[day]', \n",
    "                'P_2O[day]', 'P_3O[day]', 'Bands', 'OGLE', 'OGLE-II', 'OGLE-III', \n",
    "                'OGLE-IV', 'ASAS', 'ASASSN-V', 'Gaia-EDR3', 'G[mag]'])\n",
    "\n",
    "# make a data frame with all entries that have I-band data, \n",
    "# OGLE ID, GAIA ID, and oscillate in the first fundamental mode\n",
    "dfI = df.loc[((df[\"Bands\"] == \"I\") | (df[\"Bands\"] == \"VI\")\n",
    "        | (df[\"Bands\"] == \"BVI\") | (df[\"Bands\"] == \"VIc\"))\n",
    "        & (df[\"OGLE\"] != \"-\") & (df[\"Mode(s)\"] == \"F\") \n",
    "        & (df[\"Gaia-EDR3\"] != \"-\")]\n",
    "\n",
    "# extract a list of Gaia IDs, OGLE IDs\n",
    "gaiaIDs = dfI[\"Gaia-EDR3\"].tolist()\n",
    "ogleIDs = dfI[\"OGLE\"].tolist()\n",
    "\n",
    "# make an astropy table of gaiaIDs and corresponding ogleIDs\n",
    "table = Table([gaiaIDs, ogleIDs], names=['GaiaEDR3', 'OGLE'])"
   ]
  },
  {
   "cell_type": "markdown",
   "metadata": {},
   "source": [
    "Then we use the list of GAIA IDs to query the Gaia-EDR3 database for parallax and parallax error measurements and join them to the Pandas dataframe.\n",
    "If we already have the data saved, we can skip right to reading the gaiaData.csv file."
   ]
  },
  {
   "cell_type": "code",
   "execution_count": 9,
   "metadata": {},
   "outputs": [
    {
     "name": "stdout",
     "output_type": "stream",
     "text": [
      "Sending pytable.\n",
      "Uploaded table 'cepheid_IDs'.\n"
     ]
    }
   ],
   "source": [
    "job = Gaia.upload_table(upload_resource=table, table_name=\"cepheid_IDs\")"
   ]
  },
  {
   "cell_type": "code",
   "execution_count": 4,
   "metadata": {},
   "outputs": [],
   "source": [
    "Gaia.MAIN_GAIA_TABLE = \"gaiaedr3.gaia_source\"\n",
    "\n",
    "job = Gaia.launch_job(\"SELECT source_id, ra, dec, parallax, parallax_error FROM gaiaedr3.gaia_source g INNER JOIN user_mkhatri.cepheid_IDs c ON g.source_id = CAST(c.GaiaEDR3 AS bigint)\")\n",
    "r = job.get_results()\n",
    "pdr = r.to_pandas()"
   ]
  },
  {
   "cell_type": "code",
   "execution_count": null,
   "metadata": {},
   "outputs": [],
   "source": [
    "# convert GaiaID to int64 so we can merge\n",
    "pdtable = table.to_pandas()\n",
    "pdtable[\"GaiaEDR3\"] = pdtable[\"GaiaEDR3\"].astype(\"Int64\")\n",
    "\n",
    "gaia = pd.merge(pdtable, pdr, left_on=\"GaiaEDR3\", right_on=\"source_id\")\n",
    "\n",
    "# delete repeated column with GaiaIDs\n",
    "del gaia[\"source_id\"]"
   ]
  },
  {
   "cell_type": "code",
   "execution_count": 6,
   "metadata": {},
   "outputs": [],
   "source": [
    "# going to save the data because the Gaia website is gonna go down on Monday\n",
    "gaia.to_csv(\"gaiaData.csv\", index=False)"
   ]
  },
  {
   "cell_type": "markdown",
   "metadata": {},
   "source": [
    "Now we can just load in the gaiaData.csv file instead of querying again:"
   ]
  },
  {
   "cell_type": "code",
   "execution_count": 4,
   "metadata": {},
   "outputs": [],
   "source": [
    "gaia = pd.read_csv(\"gaiaData.csv\")"
   ]
  },
  {
   "cell_type": "markdown",
   "metadata": {},
   "source": [
    "Then we convert the parallax measurements and uncertainties to distances and distance uncertainties and add those as columns in our dataframe.\n",
    "\n",
    "Since Gaia reports parallax in milliarcseconds, the usual equation $d=\\frac{1\\mathrm{pc}}{\\pi''}$ for $\\pi''$ in arcseconds becomes $d=\\frac{1\\mathrm{pc}}{\\pi_{\\mathrm{mas}}/1000}$ or equivalently: $$d=\\frac{1\\mathrm{pc}\\cdot 1000}{\\pi_{\\mathrm{mas}}}$$"
   ]
  },
  {
   "cell_type": "code",
   "execution_count": 5,
   "metadata": {},
   "outputs": [
    {
     "name": "stderr",
     "output_type": "stream",
     "text": [
      "C:\\Users\\mmrsk\\AppData\\Local\\Temp\\ipykernel_17024\\1126197335.py:7: UserWarning: Obsolete: uarray() should now be called with two arguments. Code can be automatically updated with python -m uncertainties.1to2 -w ProgramDirectory.\n",
      "  distance_error = unp.std_devs(1000/unp.uarray((parallax, parallax_error)))\n",
      "c:\\Users\\mmrsk\\anaconda3\\envs\\ASTRON\\lib\\site-packages\\numpy\\lib\\function_base.py:2246: RuntimeWarning: invalid value encountered in <lambda> (vectorized)\n",
      "  outputs = ufunc(*inputs)\n"
     ]
    },
    {
     "data": {
      "text/html": [
       "<div>\n",
       "<style scoped>\n",
       "    .dataframe tbody tr th:only-of-type {\n",
       "        vertical-align: middle;\n",
       "    }\n",
       "\n",
       "    .dataframe tbody tr th {\n",
       "        vertical-align: top;\n",
       "    }\n",
       "\n",
       "    .dataframe thead th {\n",
       "        text-align: right;\n",
       "    }\n",
       "</style>\n",
       "<table border=\"1\" class=\"dataframe\">\n",
       "  <thead>\n",
       "    <tr style=\"text-align: right;\">\n",
       "      <th></th>\n",
       "      <th>GaiaEDR3</th>\n",
       "      <th>OGLE</th>\n",
       "      <th>ra</th>\n",
       "      <th>dec</th>\n",
       "      <th>parallax</th>\n",
       "      <th>parallax_error</th>\n",
       "      <th>distance_pc</th>\n",
       "      <th>dist_error</th>\n",
       "    </tr>\n",
       "  </thead>\n",
       "  <tbody>\n",
       "    <tr>\n",
       "      <th>4</th>\n",
       "      <td>3330259852538068608</td>\n",
       "      <td>OGLE-GD-CEP-1284</td>\n",
       "      <td>91.856108</td>\n",
       "      <td>11.151976</td>\n",
       "      <td>0.230497</td>\n",
       "      <td>0.021817</td>\n",
       "      <td>4338.444079</td>\n",
       "      <td>410.633183</td>\n",
       "    </tr>\n",
       "    <tr>\n",
       "      <th>6</th>\n",
       "      <td>3344381567567275392</td>\n",
       "      <td>OGLE-GD-CEP-0028</td>\n",
       "      <td>93.091510</td>\n",
       "      <td>13.636594</td>\n",
       "      <td>0.290342</td>\n",
       "      <td>0.025603</td>\n",
       "      <td>3444.217066</td>\n",
       "      <td>303.714379</td>\n",
       "    </tr>\n",
       "    <tr>\n",
       "      <th>10</th>\n",
       "      <td>3331279542194394240</td>\n",
       "      <td>OGLE-GD-CEP-0033</td>\n",
       "      <td>96.017277</td>\n",
       "      <td>11.708839</td>\n",
       "      <td>0.230745</td>\n",
       "      <td>0.021257</td>\n",
       "      <td>4333.793904</td>\n",
       "      <td>399.240151</td>\n",
       "    </tr>\n",
       "    <tr>\n",
       "      <th>13</th>\n",
       "      <td>3327281790934522752</td>\n",
       "      <td>OGLE-GD-CEP-0043</td>\n",
       "      <td>97.720723</td>\n",
       "      <td>9.673099</td>\n",
       "      <td>0.222357</td>\n",
       "      <td>0.017701</td>\n",
       "      <td>4497.274278</td>\n",
       "      <td>358.016914</td>\n",
       "    </tr>\n",
       "    <tr>\n",
       "      <th>17</th>\n",
       "      <td>3326443821335586816</td>\n",
       "      <td>OGLE-GD-CEP-0046</td>\n",
       "      <td>98.404924</td>\n",
       "      <td>9.203568</td>\n",
       "      <td>0.183142</td>\n",
       "      <td>0.015026</td>\n",
       "      <td>5460.242268</td>\n",
       "      <td>447.976422</td>\n",
       "    </tr>\n",
       "    <tr>\n",
       "      <th>...</th>\n",
       "      <td>...</td>\n",
       "      <td>...</td>\n",
       "      <td>...</td>\n",
       "      <td>...</td>\n",
       "      <td>...</td>\n",
       "      <td>...</td>\n",
       "      <td>...</td>\n",
       "      <td>...</td>\n",
       "    </tr>\n",
       "    <tr>\n",
       "      <th>1106</th>\n",
       "      <td>4320062347542878208</td>\n",
       "      <td>OGLE-GD-CEP-1544</td>\n",
       "      <td>290.889255</td>\n",
       "      <td>15.367826</td>\n",
       "      <td>0.293404</td>\n",
       "      <td>0.027282</td>\n",
       "      <td>3408.264936</td>\n",
       "      <td>316.920627</td>\n",
       "    </tr>\n",
       "    <tr>\n",
       "      <th>1121</th>\n",
       "      <td>4321755561092593920</td>\n",
       "      <td>OGLE-GD-CEP-1560</td>\n",
       "      <td>292.218457</td>\n",
       "      <td>16.688160</td>\n",
       "      <td>0.281604</td>\n",
       "      <td>0.022221</td>\n",
       "      <td>3551.092158</td>\n",
       "      <td>280.215552</td>\n",
       "    </tr>\n",
       "    <tr>\n",
       "      <th>1134</th>\n",
       "      <td>1825428480248517376</td>\n",
       "      <td>OGLE-GD-CEP-1575</td>\n",
       "      <td>293.565623</td>\n",
       "      <td>19.570660</td>\n",
       "      <td>0.213551</td>\n",
       "      <td>0.018342</td>\n",
       "      <td>4682.717310</td>\n",
       "      <td>402.201849</td>\n",
       "    </tr>\n",
       "    <tr>\n",
       "      <th>1138</th>\n",
       "      <td>1824511899869141120</td>\n",
       "      <td>OGLE-GD-CEP-1580</td>\n",
       "      <td>295.146314</td>\n",
       "      <td>19.285550</td>\n",
       "      <td>0.272804</td>\n",
       "      <td>0.016299</td>\n",
       "      <td>3665.633736</td>\n",
       "      <td>219.010202</td>\n",
       "    </tr>\n",
       "    <tr>\n",
       "      <th>1139</th>\n",
       "      <td>2019880203996185472</td>\n",
       "      <td>OGLE-GD-CEP-1581</td>\n",
       "      <td>295.462918</td>\n",
       "      <td>22.403587</td>\n",
       "      <td>0.317613</td>\n",
       "      <td>0.030101</td>\n",
       "      <td>3148.482773</td>\n",
       "      <td>298.387855</td>\n",
       "    </tr>\n",
       "  </tbody>\n",
       "</table>\n",
       "<p>101 rows × 8 columns</p>\n",
       "</div>"
      ],
      "text/plain": [
       "                 GaiaEDR3              OGLE          ra        dec  parallax  \\\n",
       "4     3330259852538068608  OGLE-GD-CEP-1284   91.856108  11.151976  0.230497   \n",
       "6     3344381567567275392  OGLE-GD-CEP-0028   93.091510  13.636594  0.290342   \n",
       "10    3331279542194394240  OGLE-GD-CEP-0033   96.017277  11.708839  0.230745   \n",
       "13    3327281790934522752  OGLE-GD-CEP-0043   97.720723   9.673099  0.222357   \n",
       "17    3326443821335586816  OGLE-GD-CEP-0046   98.404924   9.203568  0.183142   \n",
       "...                   ...               ...         ...        ...       ...   \n",
       "1106  4320062347542878208  OGLE-GD-CEP-1544  290.889255  15.367826  0.293404   \n",
       "1121  4321755561092593920  OGLE-GD-CEP-1560  292.218457  16.688160  0.281604   \n",
       "1134  1825428480248517376  OGLE-GD-CEP-1575  293.565623  19.570660  0.213551   \n",
       "1138  1824511899869141120  OGLE-GD-CEP-1580  295.146314  19.285550  0.272804   \n",
       "1139  2019880203996185472  OGLE-GD-CEP-1581  295.462918  22.403587  0.317613   \n",
       "\n",
       "      parallax_error  distance_pc  dist_error  \n",
       "4           0.021817  4338.444079  410.633183  \n",
       "6           0.025603  3444.217066  303.714379  \n",
       "10          0.021257  4333.793904  399.240151  \n",
       "13          0.017701  4497.274278  358.016914  \n",
       "17          0.015026  5460.242268  447.976422  \n",
       "...              ...          ...         ...  \n",
       "1106        0.027282  3408.264936  316.920627  \n",
       "1121        0.022221  3551.092158  280.215552  \n",
       "1134        0.018342  4682.717310  402.201849  \n",
       "1138        0.016299  3665.633736  219.010202  \n",
       "1139        0.030101  3148.482773  298.387855  \n",
       "\n",
       "[101 rows x 8 columns]"
      ]
     },
     "execution_count": 5,
     "metadata": {},
     "output_type": "execute_result"
    }
   ],
   "source": [
    "# adding distance column\n",
    "gaia[\"distance_pc\"] = 1000/gaia[\"parallax\"]\n",
    "\n",
    "# using the uncertainties package to add distance error column\n",
    "parallax = gaia[\"parallax\"].to_list()\n",
    "parallax_error = gaia[\"parallax_error\"].to_list()\n",
    "distance_error = unp.std_devs(1000/unp.uarray((parallax, parallax_error)))\n",
    "gaia[\"dist_error\"] = distance_error\n",
    "\n",
    "# filter out cepheids with distance error/distance > 0.1 and negative distances\n",
    "mdf = gaia.loc[(gaia[\"dist_error\"]/gaia[\"distance_pc\"] < 0.1) & (gaia[\"distance_pc\"] > 0)]\n",
    "# NOTE: this drops the number of valid Cepheids from 1141 to just 101. Yikes :(\n",
    "mdf"
   ]
  },
  {
   "cell_type": "markdown",
   "metadata": {},
   "source": [
    "Now that we have a dataframe with OGLE IDs and their corresponding distances, we can add in another column with their periods. However, we will first need to calculate their periods using their I-band lightcurves and Lomb-scargle. \n",
    "This is achieved in the following steps for each cepheid:\n",
    "1) Extract the observation times and the magnitudes at those times for as two arrays. \n",
    "2) Use the astropy function 'LombScargle' to calculate the frequency to power relationship.\n",
    "3) The corresponding frequency of the maximum of the power function is the best-fit period for that cepheid.\n",
    "4) Add the calculated period to the corresponding cepheid in the data frame.\n",
    "Repeat these steps for each cepheid in OGLE's galactic bulge and galactic disk data set to form the period luminosity relationship."
   ]
  },
  {
   "cell_type": "markdown",
   "metadata": {},
   "source": [
    "Let's test this method on just on Cepheid first:"
   ]
  },
  {
   "cell_type": "code",
   "execution_count": 12,
   "metadata": {},
   "outputs": [
    {
     "data": {
      "image/png": "[encoded data removed]",
      "text/plain": [
       "<Figure size 576x432 with 1 Axes>"
      ]
     },
     "metadata": {
      "needs_background": "light"
     },
     "output_type": "display_data"
    }
   ],
   "source": [
    "def convert_to_dataframe(file_path):\n",
    "    return pd.read_fwf(file_path, colspecs=[(0,10),(11,17),(18,23)], names=[\"t_obs\", \"mag\", \"error\"])\n",
    "\n",
    "item = convert_to_dataframe('gd\\I\\OGLE-GD-CEP-0028.dat')\n",
    "t_obs = item[\"t_obs\"].to_list()\n",
    "mag = item[\"mag\"].to_list()\n",
    "error = item[\"error\"].to_list()\n",
    "\n",
    "fig, ax = plt.subplots()\n",
    "fig.set_size_inches(8, 6)\n",
    "ax.errorbar(t_obs, mag, yerr=error, fmt='.')\n",
    "ax.set_ylabel('mag')\n",
    "ax.set_xlabel('t_obs (day)')\n",
    "fig.tight_layout()"
   ]
  },
  {
   "cell_type": "markdown",
   "metadata": {},
   "source": [
    "> Focusing on just one cepheid in the bulge, we can see how the observation times are spread out. Now let's try to apply LombScargle to it...\n",
    "(Making use of part of the code from the \"BuildingLombScargle.ipynb\" lab)"
   ]
  },
  {
   "cell_type": "code",
   "execution_count": 38,
   "metadata": {},
   "outputs": [
    {
     "name": "stdout",
     "output_type": "stream",
     "text": [
      "Calculated period: 3.5627792338570794 days\n",
      "Compare this to OGLE's result of 3.5635103 days from allGalCep.listID\n"
     ]
    },
    {
     "data": {
      "image/png": "[encoded data removed]",
      "text/plain": [
       "<Figure size 576x432 with 1 Axes>"
      ]
     },
     "metadata": {
      "needs_background": "light"
     },
     "output_type": "display_data"
    }
   ],
   "source": [
    "ls = LombScargle(t_obs, mag, error)\n",
    "\n",
    "frequency, power = ls.autopower(minimum_frequency=1/24, maximum_frequency=50)\n",
    "\n",
    "fig, ax = plt.subplots()\n",
    "fig.set_size_inches(8, 6)\n",
    "ax.plot(1/frequency, power)\n",
    "ax.set_ylabel(\"Power\")\n",
    "ax.set_xlabel(\"Period (d)\")\n",
    "ax.set_xlim(0,10)\n",
    "\n",
    "maxp = 1/frequency[power.argmax()]\n",
    "print(\"Calculated period:\", maxp, \"days\")\n",
    "print(\"Compare this to OGLE's result of 3.5635103 days from allGalCep.listID\")"
   ]
  },
  {
   "cell_type": "markdown",
   "metadata": {},
   "source": [
    ">Now looking at the phase folded plot..."
   ]
  },
  {
   "cell_type": "code",
   "execution_count": 15,
   "metadata": {},
   "outputs": [
    {
     "data": {
      "image/png": "[encoded data removed]",
      "text/plain": [
       "<Figure size 576x432 with 1 Axes>"
      ]
     },
     "metadata": {
      "needs_background": "light"
     },
     "output_type": "display_data"
    }
   ],
   "source": [
    "fig, ax = plt.subplots()\n",
    "fig.set_size_inches(8, 6)\n",
    "ax.errorbar(t_obs / maxp % 1, mag, error, fmt='.')\n",
    "ax.set_xlabel('phase')\n",
    "ax.set_ylabel('signal')\n",
    "fig.tight_layout()"
   ]
  },
  {
   "cell_type": "markdown",
   "metadata": {},
   "source": [
    "To save on computation time, let's find all files in our OGLE data that are in our dataframe so we don't calculate periods of any stars that we do not have data for."
   ]
  },
  {
   "cell_type": "code",
   "execution_count": 16,
   "metadata": {},
   "outputs": [],
   "source": [
    "# Making a list of all the OGLE IDs that we have...\n",
    "ogleCepheids = [os.path.splitext(file)[0] for file in os.listdir(\"blg\\I\") if os.path.isfile(os.path.join(\"blg\\I\", file))]\n",
    "ogleCepheids += [os.path.splitext(file)[0] for file in os.listdir(\"gd\\I\") if os.path.isfile(os.path.join(\"gd\\I\", file))]\n",
    "\n",
    "# OGLE IDs in our dataframe...\n",
    "dfCepheids = mdf[\"OGLE\"].to_list()\n",
    "\n",
    "# Finding the overlap between the lists...\n",
    "overlap = [cepheid for cepheid in ogleCepheids if cepheid in dfCepheids]"
   ]
  },
  {
   "cell_type": "markdown",
   "metadata": {},
   "source": [
    "The function used to calculate the periods:"
   ]
  },
  {
   "cell_type": "code",
   "execution_count": 17,
   "metadata": {},
   "outputs": [],
   "source": [
    "def get_period(file_path):\n",
    "    df = convert_to_dataframe(file_path)\n",
    "    t_obs = df[\"t_obs\"].to_list()\n",
    "    mag = df[\"mag\"].to_list()\n",
    "    error = df[\"error\"].to_list()\n",
    "    ls = LombScargle(t_obs, mag, error)\n",
    "    # frequency, power = ls.autopower(minimum_frequency=1/3650, maximum_frequency=24)\n",
    "    frequency, power = ls.autopower(minimum_frequency=1/24, maximum_frequency=50)\n",
    "    return 1/frequency[power.argmax()]"
   ]
  },
  {
   "cell_type": "markdown",
   "metadata": {},
   "source": [
    ">I could've actually tried calculating the error in period using the peak width of the LS periodogram... but its getting too late now for me to attempt it and update everything :("
   ]
  },
  {
   "cell_type": "markdown",
   "metadata": {},
   "source": [
    "Now we do the actual computation:"
   ]
  },
  {
   "cell_type": "code",
   "execution_count": null,
   "metadata": {},
   "outputs": [],
   "source": [
    "filepaths = [\"blg/I/\" + file + \".dat\" for file in overlap if os.path.isfile(\"blg/I/\" + file + \".dat\")]\n",
    "filepaths += [\"gd/I/\" + file + \".dat\" for file in overlap if os.path.isfile(\"gd/I/\" + file + \".dat\")]\n",
    "\n",
    "d = {'OGLE': overlap, 'period': [get_period(file) for file in filepaths]}\n",
    "periods = pd.DataFrame(data=d)\n",
    "\n",
    "# Save so we don't have to keep re-running\n",
    "periods.to_csv(\"calculatedPeriods.csv\", index=False)"
   ]
  },
  {
   "cell_type": "code",
   "execution_count": 19,
   "metadata": {},
   "outputs": [],
   "source": [
    "# if we don't need to re-calculate the periods:\n",
    "periods = pd.read_csv(\"calculatedPeriods.csv\")"
   ]
  },
  {
   "cell_type": "markdown",
   "metadata": {},
   "source": [
    "And finally combine with our dataframe:"
   ]
  },
  {
   "cell_type": "code",
   "execution_count": 20,
   "metadata": {},
   "outputs": [
    {
     "data": {
      "text/html": [
       "<div>\n",
       "<style scoped>\n",
       "    .dataframe tbody tr th:only-of-type {\n",
       "        vertical-align: middle;\n",
       "    }\n",
       "\n",
       "    .dataframe tbody tr th {\n",
       "        vertical-align: top;\n",
       "    }\n",
       "\n",
       "    .dataframe thead th {\n",
       "        text-align: right;\n",
       "    }\n",
       "</style>\n",
       "<table border=\"1\" class=\"dataframe\">\n",
       "  <thead>\n",
       "    <tr style=\"text-align: right;\">\n",
       "      <th></th>\n",
       "      <th>GaiaEDR3</th>\n",
       "      <th>OGLE</th>\n",
       "      <th>ra</th>\n",
       "      <th>dec</th>\n",
       "      <th>parallax</th>\n",
       "      <th>parallax_error</th>\n",
       "      <th>distance_pc</th>\n",
       "      <th>dist_error</th>\n",
       "      <th>period</th>\n",
       "    </tr>\n",
       "  </thead>\n",
       "  <tbody>\n",
       "    <tr>\n",
       "      <th>0</th>\n",
       "      <td>3330259852538068608</td>\n",
       "      <td>OGLE-GD-CEP-1284</td>\n",
       "      <td>91.856108</td>\n",
       "      <td>11.151976</td>\n",
       "      <td>0.230497</td>\n",
       "      <td>0.021817</td>\n",
       "      <td>4338.444079</td>\n",
       "      <td>410.633183</td>\n",
       "      <td>3.887079</td>\n",
       "    </tr>\n",
       "    <tr>\n",
       "      <th>1</th>\n",
       "      <td>3344381567567275392</td>\n",
       "      <td>OGLE-GD-CEP-0028</td>\n",
       "      <td>93.091510</td>\n",
       "      <td>13.636594</td>\n",
       "      <td>0.290342</td>\n",
       "      <td>0.025603</td>\n",
       "      <td>3444.217066</td>\n",
       "      <td>303.714379</td>\n",
       "      <td>3.562779</td>\n",
       "    </tr>\n",
       "    <tr>\n",
       "      <th>2</th>\n",
       "      <td>3331279542194394240</td>\n",
       "      <td>OGLE-GD-CEP-0033</td>\n",
       "      <td>96.017277</td>\n",
       "      <td>11.708839</td>\n",
       "      <td>0.230745</td>\n",
       "      <td>0.021257</td>\n",
       "      <td>4333.793904</td>\n",
       "      <td>399.240151</td>\n",
       "      <td>3.181004</td>\n",
       "    </tr>\n",
       "    <tr>\n",
       "      <th>3</th>\n",
       "      <td>3327281790934522752</td>\n",
       "      <td>OGLE-GD-CEP-0043</td>\n",
       "      <td>97.720723</td>\n",
       "      <td>9.673099</td>\n",
       "      <td>0.222357</td>\n",
       "      <td>0.017701</td>\n",
       "      <td>4497.274278</td>\n",
       "      <td>358.016914</td>\n",
       "      <td>4.803211</td>\n",
       "    </tr>\n",
       "    <tr>\n",
       "      <th>4</th>\n",
       "      <td>3326443821335586816</td>\n",
       "      <td>OGLE-GD-CEP-0046</td>\n",
       "      <td>98.404924</td>\n",
       "      <td>9.203568</td>\n",
       "      <td>0.183142</td>\n",
       "      <td>0.015026</td>\n",
       "      <td>5460.242268</td>\n",
       "      <td>447.976422</td>\n",
       "      <td>4.662567</td>\n",
       "    </tr>\n",
       "    <tr>\n",
       "      <th>...</th>\n",
       "      <td>...</td>\n",
       "      <td>...</td>\n",
       "      <td>...</td>\n",
       "      <td>...</td>\n",
       "      <td>...</td>\n",
       "      <td>...</td>\n",
       "      <td>...</td>\n",
       "      <td>...</td>\n",
       "      <td>...</td>\n",
       "    </tr>\n",
       "    <tr>\n",
       "      <th>96</th>\n",
       "      <td>4320062347542878208</td>\n",
       "      <td>OGLE-GD-CEP-1544</td>\n",
       "      <td>290.889255</td>\n",
       "      <td>15.367826</td>\n",
       "      <td>0.293404</td>\n",
       "      <td>0.027282</td>\n",
       "      <td>3408.264936</td>\n",
       "      <td>316.920627</td>\n",
       "      <td>0.072772</td>\n",
       "    </tr>\n",
       "    <tr>\n",
       "      <th>97</th>\n",
       "      <td>4321755561092593920</td>\n",
       "      <td>OGLE-GD-CEP-1560</td>\n",
       "      <td>292.218457</td>\n",
       "      <td>16.688160</td>\n",
       "      <td>0.281604</td>\n",
       "      <td>0.022221</td>\n",
       "      <td>3551.092158</td>\n",
       "      <td>280.215552</td>\n",
       "      <td>6.049412</td>\n",
       "    </tr>\n",
       "    <tr>\n",
       "      <th>98</th>\n",
       "      <td>1825428480248517376</td>\n",
       "      <td>OGLE-GD-CEP-1575</td>\n",
       "      <td>293.565623</td>\n",
       "      <td>19.570660</td>\n",
       "      <td>0.213551</td>\n",
       "      <td>0.018342</td>\n",
       "      <td>4682.717310</td>\n",
       "      <td>402.201849</td>\n",
       "      <td>5.938707</td>\n",
       "    </tr>\n",
       "    <tr>\n",
       "      <th>99</th>\n",
       "      <td>1824511899869141120</td>\n",
       "      <td>OGLE-GD-CEP-1580</td>\n",
       "      <td>295.146314</td>\n",
       "      <td>19.285550</td>\n",
       "      <td>0.272804</td>\n",
       "      <td>0.016299</td>\n",
       "      <td>3665.633736</td>\n",
       "      <td>219.010202</td>\n",
       "      <td>1.286318</td>\n",
       "    </tr>\n",
       "    <tr>\n",
       "      <th>100</th>\n",
       "      <td>2019880203996185472</td>\n",
       "      <td>OGLE-GD-CEP-1581</td>\n",
       "      <td>295.462918</td>\n",
       "      <td>22.403587</td>\n",
       "      <td>0.317613</td>\n",
       "      <td>0.030101</td>\n",
       "      <td>3148.482773</td>\n",
       "      <td>298.387855</td>\n",
       "      <td>0.028440</td>\n",
       "    </tr>\n",
       "  </tbody>\n",
       "</table>\n",
       "<p>101 rows × 9 columns</p>\n",
       "</div>"
      ],
      "text/plain": [
       "                GaiaEDR3              OGLE          ra        dec  parallax  \\\n",
       "0    3330259852538068608  OGLE-GD-CEP-1284   91.856108  11.151976  0.230497   \n",
       "1    3344381567567275392  OGLE-GD-CEP-0028   93.091510  13.636594  0.290342   \n",
       "2    3331279542194394240  OGLE-GD-CEP-0033   96.017277  11.708839  0.230745   \n",
       "3    3327281790934522752  OGLE-GD-CEP-0043   97.720723   9.673099  0.222357   \n",
       "4    3326443821335586816  OGLE-GD-CEP-0046   98.404924   9.203568  0.183142   \n",
       "..                   ...               ...         ...        ...       ...   \n",
       "96   4320062347542878208  OGLE-GD-CEP-1544  290.889255  15.367826  0.293404   \n",
       "97   4321755561092593920  OGLE-GD-CEP-1560  292.218457  16.688160  0.281604   \n",
       "98   1825428480248517376  OGLE-GD-CEP-1575  293.565623  19.570660  0.213551   \n",
       "99   1824511899869141120  OGLE-GD-CEP-1580  295.146314  19.285550  0.272804   \n",
       "100  2019880203996185472  OGLE-GD-CEP-1581  295.462918  22.403587  0.317613   \n",
       "\n",
       "     parallax_error  distance_pc  dist_error    period  \n",
       "0          0.021817  4338.444079  410.633183  3.887079  \n",
       "1          0.025603  3444.217066  303.714379  3.562779  \n",
       "2          0.021257  4333.793904  399.240151  3.181004  \n",
       "3          0.017701  4497.274278  358.016914  4.803211  \n",
       "4          0.015026  5460.242268  447.976422  4.662567  \n",
       "..              ...          ...         ...       ...  \n",
       "96         0.027282  3408.264936  316.920627  0.072772  \n",
       "97         0.022221  3551.092158  280.215552  6.049412  \n",
       "98         0.018342  4682.717310  402.201849  5.938707  \n",
       "99         0.016299  3665.633736  219.010202  1.286318  \n",
       "100        0.030101  3148.482773  298.387855  0.028440  \n",
       "\n",
       "[101 rows x 9 columns]"
      ]
     },
     "execution_count": 20,
     "metadata": {},
     "output_type": "execute_result"
    }
   ],
   "source": [
    "df2 = pd.merge(mdf, periods)\n",
    "df2"
   ]
  },
  {
   "cell_type": "markdown",
   "metadata": {},
   "source": [
    "We also need to add the mean I-band (apparent) magnitude to our dataframe."
   ]
  },
  {
   "cell_type": "code",
   "execution_count": 21,
   "metadata": {},
   "outputs": [],
   "source": [
    "def get_mean_I_band(file):\n",
    "    df = convert_to_dataframe(file)\n",
    "    mags = df[\"mag\"].to_list()\n",
    "    return sum(mags)/len(mags)\n",
    "\n",
    "def get_mean_I_band_err(file):\n",
    "    df = convert_to_dataframe(file)\n",
    "    mags = df[\"mag\"].to_list()\n",
    "    errs = df[\"error\"].to_list()\n",
    "    return sum(unp.std_devs(unp.uarray(mags, errs)))/len(mags)"
   ]
  },
  {
   "cell_type": "code",
   "execution_count": 22,
   "metadata": {},
   "outputs": [],
   "source": [
    "df2[\"Imag\"] = [get_mean_I_band(file) for file in filepaths]\n",
    "df2[\"ImagErr\"] = [get_mean_I_band_err(file) for file in filepaths]"
   ]
  },
  {
   "cell_type": "markdown",
   "metadata": {},
   "source": [
    "Now we get the extinction using the IRSA Galactic Dust Reddening and Extinction Service."
   ]
  },
  {
   "cell_type": "code",
   "execution_count": 23,
   "metadata": {},
   "outputs": [
    {
     "data": {
      "text/plain": [
       "1.494"
      ]
     },
     "execution_count": 23,
     "metadata": {},
     "output_type": "execute_result"
    }
   ],
   "source": [
    "# Figuring out how to get just one value...\n",
    "IrsaDust.get_extinction_table(coord.SkyCoord(90.576858*u.deg, 14.331142*u.deg))[\"A_SandF\"][4]"
   ]
  },
  {
   "cell_type": "code",
   "execution_count": 24,
   "metadata": {},
   "outputs": [],
   "source": [
    "# make a list of RA, DEC tuples\n",
    "ra = df2[\"ra\"].to_list()\n",
    "dec = df2[\"dec\"].to_list()\n",
    "posns = list(zip(ra, dec))\n",
    "\n",
    "# make a list of extinction values by fetching the extinction for the CTIO I filter at each RA, DEC position\n",
    "extinction = [IrsaDust.get_extinction_table(coord.SkyCoord(posn[0]*u.deg, posn[1]*u.deg))[\"A_SandF\"][4] for posn in posns]"
   ]
  },
  {
   "cell_type": "code",
   "execution_count": 25,
   "metadata": {},
   "outputs": [],
   "source": [
    "# lets add extinction to our dataframe\n",
    "df2[\"extinction\"] = extinction"
   ]
  },
  {
   "cell_type": "markdown",
   "metadata": {},
   "source": [
    "Note: the extinction corrected distance modulus solved for absolute magnitude is $$M = m_{\\mathrm{obs}} - 5\\log_{10}\\left(\\frac{d}{10\\mathrm{pc}}\\right) -A$$ where $d$ is the distance in parsecs and $A$ is the extinction term that we got from IRSA (looking at the extinction in the CTIO I filter)."
   ]
  },
  {
   "cell_type": "code",
   "execution_count": 26,
   "metadata": {},
   "outputs": [],
   "source": [
    "# calculating absolute magnitude\n",
    "Imag = df2[\"Imag\"].to_list()\n",
    "ImagErr = df2[\"ImagErr\"].to_list()\n",
    "dist = df2[\"distance_pc\"].to_list()\n",
    "distError = df2[\"dist_error\"].to_list()\n",
    "extinction = df2[\"extinction\"].to_list()\n",
    "vals = list(zip(Imag, ImagErr, dist, distError, extinction))\n",
    "df2[\"AImag\"] = [val[0]-5*np.log10(val[2]/10)-val[4] for val in vals]\n",
    "\n",
    "# calculating error in absolute magnitude\n",
    "df2[\"AImagError\"] = [unp.std_devs(unc.ufloat(val[0], val[1])-5*unp.log10(unc.ufloat(val[2], val[3])/10)-val[4]) for val in vals]"
   ]
  },
  {
   "cell_type": "markdown",
   "metadata": {},
   "source": [
    "Now to get a better fit, we do some more filtering. Extinction is calculated for a particular direction out to infinity. Extinction will be particularly high for sources that are in the direction of the galactic bulge. However, since all the sources remaining are close enough to have a parallax error/parallax of less than 0.1, sources in the direction of the galactic bulge will have their extinctions over-estimated. By removing sources that have large extinctions (which are mostly the ones near the direction of the galactic bulge), we can avoid situations with cepheids having absolute magnitudes of less than -10 since they have been over-corrected for extinction."
   ]
  },
  {
   "cell_type": "code",
   "execution_count": 27,
   "metadata": {},
   "outputs": [
    {
     "data": {
      "text/html": [
       "<div>\n",
       "<style scoped>\n",
       "    .dataframe tbody tr th:only-of-type {\n",
       "        vertical-align: middle;\n",
       "    }\n",
       "\n",
       "    .dataframe tbody tr th {\n",
       "        vertical-align: top;\n",
       "    }\n",
       "\n",
       "    .dataframe thead th {\n",
       "        text-align: right;\n",
       "    }\n",
       "</style>\n",
       "<table border=\"1\" class=\"dataframe\">\n",
       "  <thead>\n",
       "    <tr style=\"text-align: right;\">\n",
       "      <th></th>\n",
       "      <th>GaiaEDR3</th>\n",
       "      <th>OGLE</th>\n",
       "      <th>ra</th>\n",
       "      <th>dec</th>\n",
       "      <th>parallax</th>\n",
       "      <th>parallax_error</th>\n",
       "      <th>distance_pc</th>\n",
       "      <th>dist_error</th>\n",
       "      <th>period</th>\n",
       "      <th>Imag</th>\n",
       "      <th>ImagErr</th>\n",
       "      <th>extinction</th>\n",
       "      <th>AImag</th>\n",
       "      <th>AImagError</th>\n",
       "    </tr>\n",
       "  </thead>\n",
       "  <tbody>\n",
       "    <tr>\n",
       "      <th>0</th>\n",
       "      <td>3330259852538068608</td>\n",
       "      <td>OGLE-GD-CEP-1284</td>\n",
       "      <td>91.856108</td>\n",
       "      <td>11.151976</td>\n",
       "      <td>0.230497</td>\n",
       "      <td>0.021817</td>\n",
       "      <td>4338.444079</td>\n",
       "      <td>410.633183</td>\n",
       "      <td>3.887079</td>\n",
       "      <td>11.773452</td>\n",
       "      <td>0.004000</td>\n",
       "      <td>0.740</td>\n",
       "      <td>-2.153218</td>\n",
       "      <td>0.20556850900252627</td>\n",
       "    </tr>\n",
       "    <tr>\n",
       "      <th>1</th>\n",
       "      <td>3344381567567275392</td>\n",
       "      <td>OGLE-GD-CEP-0028</td>\n",
       "      <td>93.091510</td>\n",
       "      <td>13.636594</td>\n",
       "      <td>0.290342</td>\n",
       "      <td>0.025603</td>\n",
       "      <td>3444.217066</td>\n",
       "      <td>303.714379</td>\n",
       "      <td>3.562779</td>\n",
       "      <td>11.830382</td>\n",
       "      <td>0.004000</td>\n",
       "      <td>1.518</td>\n",
       "      <td>-2.373071</td>\n",
       "      <td>0.1915243040498608</td>\n",
       "    </tr>\n",
       "    <tr>\n",
       "      <th>2</th>\n",
       "      <td>3331279542194394240</td>\n",
       "      <td>OGLE-GD-CEP-0033</td>\n",
       "      <td>96.017277</td>\n",
       "      <td>11.708839</td>\n",
       "      <td>0.230745</td>\n",
       "      <td>0.021257</td>\n",
       "      <td>4333.793904</td>\n",
       "      <td>399.240151</td>\n",
       "      <td>3.181004</td>\n",
       "      <td>11.187718</td>\n",
       "      <td>0.004000</td>\n",
       "      <td>1.740</td>\n",
       "      <td>-3.736623</td>\n",
       "      <td>0.2000815660260962</td>\n",
       "    </tr>\n",
       "    <tr>\n",
       "      <th>3</th>\n",
       "      <td>3327281790934522752</td>\n",
       "      <td>OGLE-GD-CEP-0043</td>\n",
       "      <td>97.720723</td>\n",
       "      <td>9.673099</td>\n",
       "      <td>0.222357</td>\n",
       "      <td>0.017701</td>\n",
       "      <td>4497.274278</td>\n",
       "      <td>358.016914</td>\n",
       "      <td>4.803211</td>\n",
       "      <td>11.161143</td>\n",
       "      <td>0.004000</td>\n",
       "      <td>2.337</td>\n",
       "      <td>-4.440604</td>\n",
       "      <td>0.17291183561784002</td>\n",
       "    </tr>\n",
       "    <tr>\n",
       "      <th>4</th>\n",
       "      <td>3326443821335586816</td>\n",
       "      <td>OGLE-GD-CEP-0046</td>\n",
       "      <td>98.404924</td>\n",
       "      <td>9.203568</td>\n",
       "      <td>0.183142</td>\n",
       "      <td>0.015026</td>\n",
       "      <td>5460.242268</td>\n",
       "      <td>447.976422</td>\n",
       "      <td>4.662567</td>\n",
       "      <td>10.884439</td>\n",
       "      <td>0.004000</td>\n",
       "      <td>1.186</td>\n",
       "      <td>-3.987621</td>\n",
       "      <td>0.17819971225516623</td>\n",
       "    </tr>\n",
       "    <tr>\n",
       "      <th>...</th>\n",
       "      <td>...</td>\n",
       "      <td>...</td>\n",
       "      <td>...</td>\n",
       "      <td>...</td>\n",
       "      <td>...</td>\n",
       "      <td>...</td>\n",
       "      <td>...</td>\n",
       "      <td>...</td>\n",
       "      <td>...</td>\n",
       "      <td>...</td>\n",
       "      <td>...</td>\n",
       "      <td>...</td>\n",
       "      <td>...</td>\n",
       "      <td>...</td>\n",
       "    </tr>\n",
       "    <tr>\n",
       "      <th>83</th>\n",
       "      <td>5337355446425575552</td>\n",
       "      <td>OGLE-GD-CEP-0656</td>\n",
       "      <td>170.054410</td>\n",
       "      <td>-61.504291</td>\n",
       "      <td>0.128687</td>\n",
       "      <td>0.011650</td>\n",
       "      <td>7770.796453</td>\n",
       "      <td>703.476829</td>\n",
       "      <td>5.742793</td>\n",
       "      <td>10.956786</td>\n",
       "      <td>0.004000</td>\n",
       "      <td>4.662</td>\n",
       "      <td>-8.157542</td>\n",
       "      <td>0.19662035169435024</td>\n",
       "    </tr>\n",
       "    <tr>\n",
       "      <th>84</th>\n",
       "      <td>5336957839849307520</td>\n",
       "      <td>OGLE-GD-CEP-0657</td>\n",
       "      <td>170.162922</td>\n",
       "      <td>-61.831197</td>\n",
       "      <td>0.231431</td>\n",
       "      <td>0.015830</td>\n",
       "      <td>4320.941577</td>\n",
       "      <td>295.560244</td>\n",
       "      <td>13.364863</td>\n",
       "      <td>11.786728</td>\n",
       "      <td>0.004068</td>\n",
       "      <td>4.982</td>\n",
       "      <td>-6.373164</td>\n",
       "      <td>0.14858834664284637</td>\n",
       "    </tr>\n",
       "    <tr>\n",
       "      <th>86</th>\n",
       "      <td>5334864335384747520</td>\n",
       "      <td>OGLE-GD-CEP-0700</td>\n",
       "      <td>176.633794</td>\n",
       "      <td>-61.640995</td>\n",
       "      <td>0.139985</td>\n",
       "      <td>0.011623</td>\n",
       "      <td>7143.646454</td>\n",
       "      <td>593.159489</td>\n",
       "      <td>6.684812</td>\n",
       "      <td>11.809110</td>\n",
       "      <td>0.004000</td>\n",
       "      <td>4.513</td>\n",
       "      <td>-6.973490</td>\n",
       "      <td>0.18034856485651</td>\n",
       "    </tr>\n",
       "    <tr>\n",
       "      <th>87</th>\n",
       "      <td>6057402526059795072</td>\n",
       "      <td>OGLE-GD-CEP-0752</td>\n",
       "      <td>181.667633</td>\n",
       "      <td>-62.596845</td>\n",
       "      <td>0.193881</td>\n",
       "      <td>0.011065</td>\n",
       "      <td>5157.791738</td>\n",
       "      <td>294.353012</td>\n",
       "      <td>4.989650</td>\n",
       "      <td>11.211838</td>\n",
       "      <td>0.004000</td>\n",
       "      <td>4.118</td>\n",
       "      <td>-6.468481</td>\n",
       "      <td>0.12398955830425293</td>\n",
       "    </tr>\n",
       "    <tr>\n",
       "      <th>99</th>\n",
       "      <td>1824511899869141120</td>\n",
       "      <td>OGLE-GD-CEP-1580</td>\n",
       "      <td>295.146314</td>\n",
       "      <td>19.285550</td>\n",
       "      <td>0.272804</td>\n",
       "      <td>0.016299</td>\n",
       "      <td>3665.633736</td>\n",
       "      <td>219.010202</td>\n",
       "      <td>1.286318</td>\n",
       "      <td>11.139813</td>\n",
       "      <td>0.004000</td>\n",
       "      <td>2.758</td>\n",
       "      <td>-4.438933</td>\n",
       "      <td>0.12980036310855395</td>\n",
       "    </tr>\n",
       "  </tbody>\n",
       "</table>\n",
       "<p>80 rows × 14 columns</p>\n",
       "</div>"
      ],
      "text/plain": [
       "               GaiaEDR3              OGLE          ra        dec  parallax  \\\n",
       "0   3330259852538068608  OGLE-GD-CEP-1284   91.856108  11.151976  0.230497   \n",
       "1   3344381567567275392  OGLE-GD-CEP-0028   93.091510  13.636594  0.290342   \n",
       "2   3331279542194394240  OGLE-GD-CEP-0033   96.017277  11.708839  0.230745   \n",
       "3   3327281790934522752  OGLE-GD-CEP-0043   97.720723   9.673099  0.222357   \n",
       "4   3326443821335586816  OGLE-GD-CEP-0046   98.404924   9.203568  0.183142   \n",
       "..                  ...               ...         ...        ...       ...   \n",
       "83  5337355446425575552  OGLE-GD-CEP-0656  170.054410 -61.504291  0.128687   \n",
       "84  5336957839849307520  OGLE-GD-CEP-0657  170.162922 -61.831197  0.231431   \n",
       "86  5334864335384747520  OGLE-GD-CEP-0700  176.633794 -61.640995  0.139985   \n",
       "87  6057402526059795072  OGLE-GD-CEP-0752  181.667633 -62.596845  0.193881   \n",
       "99  1824511899869141120  OGLE-GD-CEP-1580  295.146314  19.285550  0.272804   \n",
       "\n",
       "    parallax_error  distance_pc  dist_error     period       Imag   ImagErr  \\\n",
       "0         0.021817  4338.444079  410.633183   3.887079  11.773452  0.004000   \n",
       "1         0.025603  3444.217066  303.714379   3.562779  11.830382  0.004000   \n",
       "2         0.021257  4333.793904  399.240151   3.181004  11.187718  0.004000   \n",
       "3         0.017701  4497.274278  358.016914   4.803211  11.161143  0.004000   \n",
       "4         0.015026  5460.242268  447.976422   4.662567  10.884439  0.004000   \n",
       "..             ...          ...         ...        ...        ...       ...   \n",
       "83        0.011650  7770.796453  703.476829   5.742793  10.956786  0.004000   \n",
       "84        0.015830  4320.941577  295.560244  13.364863  11.786728  0.004068   \n",
       "86        0.011623  7143.646454  593.159489   6.684812  11.809110  0.004000   \n",
       "87        0.011065  5157.791738  294.353012   4.989650  11.211838  0.004000   \n",
       "99        0.016299  3665.633736  219.010202   1.286318  11.139813  0.004000   \n",
       "\n",
       "    extinction     AImag           AImagError  \n",
       "0        0.740 -2.153218  0.20556850900252627  \n",
       "1        1.518 -2.373071   0.1915243040498608  \n",
       "2        1.740 -3.736623   0.2000815660260962  \n",
       "3        2.337 -4.440604  0.17291183561784002  \n",
       "4        1.186 -3.987621  0.17819971225516623  \n",
       "..         ...       ...                  ...  \n",
       "83       4.662 -8.157542  0.19662035169435024  \n",
       "84       4.982 -6.373164  0.14858834664284637  \n",
       "86       4.513 -6.973490     0.18034856485651  \n",
       "87       4.118 -6.468481  0.12398955830425293  \n",
       "99       2.758 -4.438933  0.12980036310855395  \n",
       "\n",
       "[80 rows x 14 columns]"
      ]
     },
     "execution_count": 27,
     "metadata": {},
     "output_type": "execute_result"
    }
   ],
   "source": [
    "df3 = df2.loc[(df2[\"extinction\"] < 5)]\n",
    "df3"
   ]
  },
  {
   "cell_type": "markdown",
   "metadata": {},
   "source": [
    "Plotting the Period-Luminosity relationship for Cepheids in the Milky Way with its line of best fit:"
   ]
  },
  {
   "cell_type": "code",
   "execution_count": 28,
   "metadata": {},
   "outputs": [
    {
     "data": {
      "image/png": "[encoded data removed]",
      "text/plain": [
       "<Figure size 1200x900 with 1 Axes>"
      ]
     },
     "metadata": {
      "needs_background": "light"
     },
     "output_type": "display_data"
    }
   ],
   "source": [
    "x = df3[\"period\"].to_list()\n",
    "xlog = [np.log10(i/10) for i in x]\n",
    "y = df3[\"AImag\"].to_list()\n",
    "y_err = df3[\"AImagError\"].to_list()\n",
    "\n",
    "out, cov = np.polyfit(xlog, y, 1, cov=True)\n",
    "a = out[0]\n",
    "b = out[1]\n",
    "outerrs = np.sqrt(np.diag(cov))\n",
    "aerr = outerrs[0]\n",
    "berr = outerrs[1]\n",
    "\n",
    "fig, ax = plt.subplots()\n",
    "fig.set_size_inches(8, 6)\n",
    "fig.dpi=(150)\n",
    "d1 = ax.errorbar(xlog, y, y_err, label=\"data\", fmt=\".\")\n",
    "l1 = ax.plot(np.linspace(-1, 0.5, 10000), a*np.linspace(-1, 0.5, 10000)+b, color=\"red\", label=\"best fit: $M_I$ =(\" + str(a)[0:6] + \"+/-\" + str(aerr)[0:5] + \")*log(P/10)\" + str(b)[0:7] + \"+/-\" + str(berr)[0:6])\n",
    "legend = ax.legend(loc=\"upper left\")\n",
    "ax.set_ylabel(\"I-band absolute magnitude\")\n",
    "ax.set_xlabel(\"Log(Period/10 days)\")\n",
    "ax.invert_yaxis()"
   ]
  },
  {
   "cell_type": "markdown",
   "metadata": {},
   "source": [
    "Now that we have the Period-Luminosity relationship, we can calculate the distance to cepheids in the LMC.\n",
    "\n",
    "First we get our data:"
   ]
  },
  {
   "cell_type": "code",
   "execution_count": 29,
   "metadata": {},
   "outputs": [],
   "source": [
    "# get a list of all LMC cepheids in OGLE that oscillate in the first fundamental mode\n",
    "LMCCepheids = [os.path.splitext(file)[0] for file in os.listdir(\"lmc\\I\") if os.path.isfile(os.path.join(\"lmc\\I\", file))]                    # reading in the names of the files from the downloaded data\n",
    "lmcident = pd.read_fwf(\"lmcident.dat\", colspecs=\"infer\", names=[\"OGLE\", \"Mode\", \"RA\", \"DEC\", \"OGLE-IV\", \"OGLE-III\", \"OGLE-II\", \"OtherID\"])  # reading in the identifier file that has Mode, RA, and DEC\n",
    "lmcident1 = (lmcident.loc[(lmcident[\"Mode\"] == \"F\")])                                                                                       # filtering out LMC cepheids that oscillate in the first fundamental mode\n",
    "LMCCepheids1 = [v for v in LMCCepheids if v in lmcident1[\"OGLE\"].to_list()]                                                                 # get a list of IDs for the remaining cepheids\n",
    "LMCfiles = [\"lmc/I/\" + file + \".dat\" for file in LMCCepheids1 if os.path.isfile(\"lmc/I/\" + file + \".dat\")]                                  # converting that list of IDs to a list of file paths\n",
    "\n",
    "# this is to get the mean I-band magnitudes...\n",
    "lmcdf = pd.read_fwf(\"lmccepF.dat\", colspecs=\"infer\", names=[\"OGLE\", \"Imag\", \"Vmag\", \"period\", \"uncertainty\", \"ToMB\", \"Iamp\", \"R_21\", \"phi_21\", \"R_31\", \"phi_31\"])"
   ]
  },
  {
   "cell_type": "markdown",
   "metadata": {},
   "source": [
    "Now, we use LombScargle to calculate the periods of the cepheids within the LMC:"
   ]
  },
  {
   "cell_type": "code",
   "execution_count": null,
   "metadata": {},
   "outputs": [],
   "source": [
    "LMCd = {'OGLE': LMCCepheids1, \n",
    "        'period': [get_period(file) for file in LMCfiles]}\n",
    "LMCperiods = pd.DataFrame(data=LMCd)\n",
    "\n",
    "# Since this takes a while and won't be different run-to-run, we can just \n",
    "# run it once and save the result so we don't need to keep re-calculating\n",
    "LMCperiods.to_csv(\"LMCperiods.csv\", index=False)"
   ]
  },
  {
   "cell_type": "code",
   "execution_count": 31,
   "metadata": {},
   "outputs": [],
   "source": [
    "LMCperiods = pd.read_csv(\"LMCperiods.csv\")"
   ]
  },
  {
   "cell_type": "markdown",
   "metadata": {},
   "source": [
    "Now, we can use the Period-Luminosity relationship to calculate their distance using their extinction corrected apparent I-band magnitudes. To solve for distance, we can use the distance modulus with extinction and solve it for distance. This gives: $$d = 10^{\\frac{m_{\\mathrm{obs}}-M-A+5}{5}}$$ where $m_{\\mathrm{obs}}$ is the observed mean I-band magnitude, $M$ is the calculated absolute magnitude from the period-luminosity relationship, and $A$ is the extinction that we get from IRSA."
   ]
  },
  {
   "cell_type": "code",
   "execution_count": 32,
   "metadata": {},
   "outputs": [],
   "source": [
    "lmcMerged0 = pd.merge(LMCperiods, lmcident1, on=\"OGLE\")\n",
    "lmcMerged = pd.merge(lmcMerged0, lmcdf[[\"OGLE\", \"Imag\"]], how=\"inner\", on=\"OGLE\")\n",
    "lmcMerged = lmcMerged.drop([1964]) # I dunno why but this one causes errors"
   ]
  },
  {
   "cell_type": "code",
   "execution_count": null,
   "metadata": {},
   "outputs": [],
   "source": [
    "# make a list of RA, DEC tuples\n",
    "ra = lmcMerged[\"RA\"].to_list()\n",
    "dec = lmcMerged[\"DEC\"].to_list()\n",
    "posns = list(zip(ra, dec))\n",
    "\n",
    "# make a list of extinction values by fetching the extinction for the CTIO I filter at each RA, DEC position and add that to our dataframe\n",
    "lmcMerged[\"Extinction\"] = [IrsaDust.get_extinction_table(coord.SkyCoord(posn[0]+posn[1], unit=(u.hourangle, u.deg)))[\"A_SandF\"][4] for posn in posns]"
   ]
  },
  {
   "cell_type": "code",
   "execution_count": 123,
   "metadata": {},
   "outputs": [],
   "source": [
    "# saving with the extinction\n",
    "lmcMerged.to_csv(\"LMCwithExtinction.csv\", index=False)"
   ]
  },
  {
   "cell_type": "code",
   "execution_count": 34,
   "metadata": {},
   "outputs": [],
   "source": [
    "lmcMerged = pd.read_csv(\"LMCwithExtinction.csv\")"
   ]
  },
  {
   "cell_type": "code",
   "execution_count": 35,
   "metadata": {},
   "outputs": [],
   "source": [
    "# absolute magnitude from period luminosity relationship\n",
    "lmcMerged[\"absMag\"] = [a*np.log10(i/10)+b for i in lmcMerged[\"period\"].to_list()]           # using my calculated period-luminosity relationship\n",
    "lmcMerged[\"absMagErr\"] = [unp.std_devs(unc.ufloat(a, aerr)*np.log10(i/10)+unc.ufloat(b, berr)) for i in lmcMerged[\"period\"].to_list()]  # trying to get the error in the absolute magnitude"
   ]
  },
  {
   "cell_type": "code",
   "execution_count": 36,
   "metadata": {},
   "outputs": [],
   "source": [
    "# now finding the distance (using my PL relationship)\n",
    "ins = list(zip(lmcMerged[\"Imag\"].to_list(), lmcMerged[\"absMag\"].to_list(), lmcMerged[\"Extinction\"].to_list(), lmcMerged[\"absMagErr\"].to_list()))\n",
    "lmcMerged[\"distance_pc\"] = [10**((float(i[0])-float(i[1])-float(i[2])+5)/5) for i in ins]\n",
    "lmcMerged[\"distance_pc_err\"] = [unp.std_devs(10**( (float(i[0]) - unc.ufloat(i[1], i[3]) - float(i[2]) + 5)/5 )) for i in ins]\n"
   ]
  },
  {
   "cell_type": "markdown",
   "metadata": {},
   "source": [
    "Finally, we can calculate the average distance to the LMC by averaging over the distances to all the cepheids within the LMC."
   ]
  },
  {
   "cell_type": "code",
   "execution_count": 37,
   "metadata": {},
   "outputs": [
    {
     "name": "stdout",
     "output_type": "stream",
     "text": [
      "Distance to LMC: 52165.867570987866 +/- 10270.212804543027 pc \n",
      "Actual distance: ~40-55 kpc \n"
     ]
    },
    {
     "data": {
      "image/png": "[encoded data removed]",
      "text/plain": [
       "<Figure size 432x288 with 1 Axes>"
      ]
     },
     "metadata": {
      "needs_background": "light"
     },
     "output_type": "display_data"
    }
   ],
   "source": [
    "# average (my PL)\n",
    "distances = lmcMerged[\"distance_pc\"].to_list()\n",
    "distance_errors = lmcMerged[\"distance_pc_err\"].to_list()\n",
    "averageDistLMC = sum(distances)/len(distances)\n",
    "avgDistLMCErr = sum(unp.std_devs(unp.uarray(distances, distance_errors)))/len(distances)\n",
    "\n",
    "# plot histogram of calculated distances\n",
    "fig, ax = plt.subplots()\n",
    "ax.hist(distances, bins=100)\n",
    "ax.set_xlabel(\"distance (pc)\")\n",
    "ax.set_ylabel(\"count\")\n",
    "ax.set_title(\"Distances to LMC Cepheids\")\n",
    "\n",
    "# printing results\n",
    "print(\"Distance to LMC:\", averageDistLMC, \"+/-\", avgDistLMCErr, \"pc\", \"\\nActual distance: ~40-55 kpc \")"
   ]
  },
  {
   "cell_type": "markdown",
   "metadata": {},
   "source": [
    "___"
   ]
  }
 ],
 "metadata": {
  "interpreter": {
   "hash": "d33e9149e8ec121527bb5cc4a711855952d8c7f8c75848ccd8ead4c1d3697c8e"
  },
  "kernelspec": {
   "display_name": "Python 3.8.13 ('ASTRON')",
   "language": "python",
   "name": "python3"
  },
  "language_info": {
   "codemirror_mode": {
    "name": "ipython",
    "version": 3
   },
   "file_extension": ".py",
   "mimetype": "text/x-python",
   "name": "python",
   "nbconvert_exporter": "python",
   "pygments_lexer": "ipython3",
   "version": "3.8.13"
  }
 },
 "nbformat": 4,
 "nbformat_minor": 2
}
